{
 "cells": [
  {
   "cell_type": "markdown",
   "id": "33d2af8c",
   "metadata": {},
   "source": [
    "# QUESTION 1 : LOAD THE DATA SET\n",
    "\n",
    "- In this kernel I will download, unzip and load the dataset from the provided GitHub Link.\n",
    "\n",
    "- We will then read the JSON delimiteed format file and take a look at our dataset.\n",
    "\n",
    "- I will see how the data structured in terms of the types of the various fields."
   ]
  },
  {
   "cell_type": "code",
   "execution_count": 1,
   "id": "ac026361",
   "metadata": {},
   "outputs": [],
   "source": [
    "#Importing necessary Libraries\n",
    "\n",
    "import numpy as np\n",
    "import pandas as pd\n",
    "import requests\n",
    "import zipfile\n",
    "import os"
   ]
  },
  {
   "cell_type": "code",
   "execution_count": 2,
   "id": "e6aa7f68",
   "metadata": {},
   "outputs": [],
   "source": [
    "# url to download dataset from github\n",
    "dataset_url =\"https://raw.github.com/CapitalOneRecruiting/DS/master/transactions.zip\""
   ]
  },
  {
   "cell_type": "code",
   "execution_count": 3,
   "id": "831ce4b0",
   "metadata": {},
   "outputs": [],
   "source": [
    "# create data folder\n",
    "if not os.path.exists('data'):\n",
    "    os.makedirs('data')\n",
    "if not os.path.exists('data/pickles'):\n",
    "    os.makedirs('data/pickles')\n"
   ]
  },
  {
   "cell_type": "code",
   "execution_count": 4,
   "id": "a23ffe0d",
   "metadata": {},
   "outputs": [],
   "source": [
    "#Write a Function to download the required file,\n",
    "\n",
    "def download_file(url: str, folder: str = \"data\") -> str:\n",
    "    \n",
    "    # Get the filename from the URL\n",
    "    filename = os.path.join(\"data/\", url.split(\"/\")[-1])\n",
    "\n",
    "    # Download the file and save it\n",
    "    with requests.get(url, stream=True) as response:\n",
    "        response.raise_for_status()\n",
    "        with open(filename, \"wb\") as file:\n",
    "            for chunk in response.iter_content(chunk_size=8192):\n",
    "                file.write(chunk)\n",
    "\n",
    "    return filename\n"
   ]
  },
  {
   "cell_type": "code",
   "execution_count": 5,
   "id": "e126840c",
   "metadata": {},
   "outputs": [],
   "source": [
    "#Extract the Zip File\n",
    "\n",
    "with zipfile.ZipFile(\"data/transactions.zip\",\"r\") as zip_ref:\n",
    "    zip_ref.extractall(\"data/\")"
   ]
  },
  {
   "cell_type": "code",
   "execution_count": 6,
   "id": "82a6d45d",
   "metadata": {},
   "outputs": [
    {
     "name": "stdout",
     "output_type": "stream",
     "text": [
      "<class 'pandas.core.frame.DataFrame'>\n",
      "RangeIndex: 786363 entries, 0 to 786362\n",
      "Data columns (total 29 columns):\n",
      " #   Column                    Non-Null Count   Dtype  \n",
      "---  ------                    --------------   -----  \n",
      " 0   accountNumber             786363 non-null  int64  \n",
      " 1   customerId                786363 non-null  int64  \n",
      " 2   creditLimit               786363 non-null  int64  \n",
      " 3   availableMoney            786363 non-null  float64\n",
      " 4   transactionDateTime       786363 non-null  object \n",
      " 5   transactionAmount         786363 non-null  float64\n",
      " 6   merchantName              786363 non-null  object \n",
      " 7   acqCountry                781801 non-null  object \n",
      " 8   merchantCountryCode       785639 non-null  object \n",
      " 9   posEntryMode              782309 non-null  object \n",
      " 10  posConditionCode          785954 non-null  object \n",
      " 11  merchantCategoryCode      786363 non-null  object \n",
      " 12  currentExpDate            786363 non-null  object \n",
      " 13  accountOpenDate           786363 non-null  object \n",
      " 14  dateOfLastAddressChange   786363 non-null  object \n",
      " 15  cardCVV                   786363 non-null  int64  \n",
      " 16  enteredCVV                786363 non-null  int64  \n",
      " 17  cardLast4Digits           786363 non-null  int64  \n",
      " 18  transactionType           785665 non-null  object \n",
      " 19  echoBuffer                0 non-null       float64\n",
      " 20  currentBalance            786363 non-null  float64\n",
      " 21  merchantCity              0 non-null       float64\n",
      " 22  merchantState             0 non-null       float64\n",
      " 23  merchantZip               0 non-null       float64\n",
      " 24  cardPresent               786363 non-null  bool   \n",
      " 25  posOnPremises             0 non-null       float64\n",
      " 26  recurringAuthInd          0 non-null       float64\n",
      " 27  expirationDateKeyInMatch  786363 non-null  bool   \n",
      " 28  isFraud                   786363 non-null  bool   \n",
      "dtypes: bool(3), float64(9), int64(6), object(11)\n",
      "memory usage: 158.2+ MB\n"
     ]
    }
   ],
   "source": [
    "#Parse the JSON file and create re-usable pickles\n",
    "\n",
    "df = pd.read_json('data/transactions.txt', lines=True)\n",
    "df.replace('', np.nan, inplace=True)\n",
    "pd.to_pickle(df, 'data/pickles/df_Original', protocol=4)\n",
    "df.info()"
   ]
  }
 ],
 "metadata": {
  "kernelspec": {
   "display_name": "Python 3 (ipykernel)",
   "language": "python",
   "name": "python3"
  },
  "language_info": {
   "codemirror_mode": {
    "name": "ipython",
    "version": 3
   },
   "file_extension": ".py",
   "mimetype": "text/x-python",
   "name": "python",
   "nbconvert_exporter": "python",
   "pygments_lexer": "ipython3",
   "version": "3.9.12"
  }
 },
 "nbformat": 4,
 "nbformat_minor": 5
}
